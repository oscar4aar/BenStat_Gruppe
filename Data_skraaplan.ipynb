{
 "cells": [
  {
   "cell_type": "code",
   "execution_count": 19,
   "id": "322eb394",
   "metadata": {},
   "outputs": [],
   "source": [
    "import numpy as np                                     # Matlab like syntax for linear algebra and functions\n",
    "import matplotlib.pyplot as plt                        # Plots and figures like you know them from Matlab\n",
    "import seaborn as sns                                  # Make the plots nicer to look at\n",
    "from iminuit import Minuit                             # The actual fitting tool, better than scipy's\n",
    "import sys                                             # Modules to see files and folders in directories\n",
    "from scipy import stats\n",
    "r = np.random"
   ]
  },
  {
   "cell_type": "code",
   "execution_count": 2,
   "id": "b4a3dc47-f117-446d-b6f7-956bca593c68",
   "metadata": {},
   "outputs": [],
   "source": [
    "sys.path.append('../AppStat2023/External_Functions')\n",
    "from ExternalFunctions import UnbinnedLH, BinnedLH, Chi2Regression\n",
    "from ExternalFunctions import nice_string_output, add_text_to_ax   "
   ]
  },
  {
   "cell_type": "code",
   "execution_count": 18,
   "id": "60f23e2e-0336-47b1-9bd8-b9baba811049",
   "metadata": {},
   "outputs": [],
   "source": [
    "blind = True"
   ]
  },
  {
   "cell_type": "code",
   "execution_count": 3,
   "id": "946ce10e-4c22-41ef-8e60-62f9301855ee",
   "metadata": {},
   "outputs": [],
   "source": [
    "def constant(x,c):\n",
    "    return c\n",
    "\n",
    "def fit(fit, x, y, sy):\n",
    "    Minuit.print_level = 1    # Print result of fits (generally - can also be moved down to each fit instance)\n",
    "    \n",
    "    chi2fit = Chi2Regression(fit, x, y, sy)\n",
    "    \n",
    "    minuit_chi2 = Minuit(chi2fit, c=0)\n",
    "    minuit_chi2.errordef = 1.0     # This is the definition for ChiSqaure fits\n",
    "    minuit_chi2.migrad();          # This is where the minimisation is carried out! Put \";\" at the end to void output\n",
    "    return minuit_chi2"
   ]
  },
  {
   "cell_type": "code",
   "execution_count": 4,
   "id": "32fb9243-1487-4296-8f23-3cc61dc6543f",
   "metadata": {},
   "outputs": [],
   "source": [
    "def weighted_mean(y_data, y_err):\n",
    "    mean = fit(constant,  # fit function\n",
    "               np.arange(len(y_data)), # arbitrary x_values\n",
    "               y_data, # y-data\n",
    "               y_err # y-error\n",
    "              )\n",
    "    for name in mean.parameters:\n",
    "        value, error = mean.values[name], mean.errors[name]\n",
    "        print(f\"Fit value: {name} = {value:.5f} +/- {error:.5f}\")\n",
    "    w_mean = mean.values['c']\n",
    "    w_err  = mean.errors['c'], \n",
    "    chi2_value = mean.fval\n",
    "    Ndof_value = len(y_data)-1 # data-points - 1 parameter\n",
    "    prob = stats.chi2.sf(chi2_value, Ndof_value)\n",
    "    return w_mean, w_err, chi2_value, prob"
   ]
  },
  {
   "cell_type": "code",
   "execution_count": 266,
   "id": "9852acfd",
   "metadata": {},
   "outputs": [
    {
     "name": "stdout",
     "output_type": "stream",
     "text": [
      "Fit value: c = 0.00000 +/- 0.01715\n",
      "Fit value: c = 20.29596 +/- 0.01715\n",
      "Fit value: c = 32.90259 +/- 0.01715\n",
      "Fit value: c = 53.28187 +/- 0.01715\n",
      "Fit value: c = 80.23545 +/- 0.01715\n"
     ]
    }
   ],
   "source": [
    "# Vi er 'lige blinde' på alle målinger af samme gate, men ikke på hver gate... Skal de alle forskydes lige meget i stedet måske?\n",
    "# Vi er ikke blinde på '0'\n",
    "\n",
    "if blind:\n",
    "    blinding = np.concatenate((np.zeros(1), r.normal(0, 5, size=5-1))) \n",
    "else:\n",
    "    blinding = np.zeros(5)\n",
    "\n",
    "#positioner af målere\n",
    "person1_pos = np.array([19.25, 35.48, 53.45, 69.95, 87.75]) + blinding #cm\n",
    "person1_pos += -person1_pos[0] # Sætter den første som 0 punkt\n",
    "person1_pos_sigma = np.array([0.05]) #cm\n",
    "\n",
    "person2_pos = np.array([17, 33.6, 51.4, 67.7, 85.6]) + blinding #cm\n",
    "person2_pos += -person2_pos[0]\n",
    "person2_pos_sigma = np.array([0.1]) #cm\n",
    "\n",
    "person3_pos = np.array([12.10, 29.85, 46.35, 64.05, 80.65]) + blinding #cm\n",
    "person3_pos += -person3_pos[0]\n",
    "person3_pos_sigma = np.array([0.05]) #cm\n",
    "\n",
    "person4_pos = np.array([11.24, 29.00, 45.43, 63.01, 79.84]) + blinding #cm\n",
    "person4_pos += -person4_pos[0]\n",
    "person4_pos_sigma = np.array([0.02]) #cm\n",
    "\n",
    "\n",
    "# Alternative weighted mean:\n",
    "#weighted_sigma = 1/np.sqrt(person1_pos_sigma**(-2) + person2_pos_sigma**(-2) + person3_pos_sigma**(-2) + person4_pos_sigma**(-2))\n",
    "#weighted_pos = person1_pos*person1_pos_sigma**(-2) + person2_pos*person2_pos_sigma**(-2) + person3_pos*person3_pos_sigma**(-2) + person4_pos*person4_pos_sigma**(-2)\n",
    "#weighted_pos *= weighted_sigma**(2)\n",
    "\n",
    "gate_pos = np.zeros(len(person1_pos))\n",
    "gate_err = np.zeros(len(person1_pos))\n",
    "\n",
    "for i in range(len(person1_pos)):\n",
    "    mean, err, chi2, prob = weighted_mean(\n",
    "        [person1_pos[i], person2_pos[i], person3_pos[i], person4_pos[i]],\n",
    "        [person1_pos_sigma[0], person2_pos_sigma[0], person3_pos_sigma[0], person4_pos_sigma[0]]\n",
    "                                   )\n",
    "    gate_pos[i]+=mean\n",
    "    gate_err[i]+=err[0]"
   ]
  },
  {
   "cell_type": "code",
   "execution_count": 53,
   "id": "b3e8c231",
   "metadata": {},
   "outputs": [
    {
     "name": "stdout",
     "output_type": "stream",
     "text": [
      "Fit value: c = 19.89323 +/- 0.03288\n",
      "Fit value: c = 90.89212 +/- 0.03288\n"
     ]
    }
   ],
   "source": [
    "if blind:\n",
    "    blinding = r.normal(0, 3, size=2)\n",
    "else:\n",
    "    blinding = np.zeros(2)\n",
    "\n",
    "#trigonometri\n",
    "person1_height_length = np.array([22.05, 89.9])+blinding #cm height, length\n",
    "person1_hl_sigma = np.array([0.05]) #cm\n",
    "\n",
    "person2_height_length = np.array([22.1, 90.1])+blinding #cm height, length\n",
    "person2_hl_sigma = np.array([0.2]) #cm\n",
    "\n",
    "person3_height_length = np.array([22.7, 93.1])+blinding #cm height, length\n",
    "person3_hl_sigma = np.array([0.1]) #cm\n",
    "\n",
    "person4_height_length = np.array([22.34, 89.19])+blinding #cm height, length\n",
    "person4_hl_sigma = np.array([0.05]) #cm\n",
    "\n",
    "height_length = np.zeros(len(person1_height_length))\n",
    "hl_err = np.zeros(len(person1_height_length))\n",
    "\n",
    "for i in range(len(person1_height_length)):\n",
    "    mean, err, chi2, prob = weighted_mean(\n",
    "        [person1_height_length[i], person2_height_length[i], person3_height_length[i], person4_height_length[i]],\n",
    "        [person1_hl_sigma[0], person2_hl_sigma[0], person3_hl_sigma[0], person4_hl_sigma[0]]\n",
    "                                   )\n",
    "    height_length[i]+=mean\n",
    "    hl_err[i]+=err[0]"
   ]
  },
  {
   "cell_type": "code",
   "execution_count": 113,
   "id": "d1329f5c",
   "metadata": {},
   "outputs": [
    {
     "name": "stdout",
     "output_type": "stream",
     "text": [
      "Fit value: c = 13.94981 +/- 0.04927\n",
      "Fit value: c = 13.96729 +/- 0.04927\n"
     ]
    }
   ],
   "source": [
    "if blind:\n",
    "    blinding = np.ones(2)*r.normal(0,3, size=1) # Begge målinger forskydes med samme værdi\n",
    "else:\n",
    "    blinding = np.zeros(2)\n",
    "\n",
    "# vinkel\n",
    "person1_angle = np.array([13.1, 11.9]) + blinding #degrees - lille måleapperat, stort måleapperat\n",
    "person1_angle_sigma = np.array([0.5]) #degrees\n",
    "\n",
    "person2_angle = np.array([11, 13.5]) + blinding #degrees\n",
    "person2_angle_sigma = np.array([0.5]) #degrees\n",
    "\n",
    "person3_angle = np.array([14.5, 12.0]) + blinding #degrees\n",
    "person3_angle_sigma = np.array([0.5]) #degrees\n",
    "\n",
    "person4_angle = np.array([13.31, 13.34]) + blinding #degrees\n",
    "person4_angle_sigma = np.array([0.05]) #degrees\n",
    "\n",
    "\n",
    "\n",
    "angle = np.zeros(len(person1_angle))\n",
    "angle_err = np.zeros(len(person1_angle))\n",
    "for i in range(len(person1_height_length)):\n",
    "    mean, err, chi2, prob = weighted_mean(\n",
    "        [person1_angle[i], person2_angle[i], person3_angle[i], person4_angle[i]],\n",
    "        [person1_angle_sigma[0], person2_angle_sigma[0], person3_angle_sigma[0], person4_angle_sigma[0]]\n",
    "    )\n",
    "    angle[i]+=mean\n",
    "    angle_err[i]+=err[0]"
   ]
  },
  {
   "cell_type": "code",
   "execution_count": 124,
   "id": "277848b8",
   "metadata": {},
   "outputs": [
    {
     "name": "stdout",
     "output_type": "stream",
     "text": [
      "Fit value: c = 14.41292 +/- 0.04927\n",
      "Fit value: c = 16.16535 +/- 0.04927\n"
     ]
    }
   ],
   "source": [
    "if blind:\n",
    "    blinding = np.ones(2)*r.normal(0,3, size=1)\n",
    "else:\n",
    "    blinding = np.zeros(2)\n",
    "    \n",
    "#vinkel efter vending - biased\n",
    "\n",
    "person1_angle_turn = np.array([13.7, 14.2]) + blinding #degrees - lille måleapperat, stort måleapperat\n",
    "person1_angle_turn_sigma = np.array([0.5]) #degrees\n",
    "\n",
    "\n",
    "person2_angle_turn = np.array([14.0, 14.5]) + blinding #degrees\n",
    "person2_angle_turn_sigma = np.array([0.5]) #degrees\n",
    "\n",
    "\n",
    "person3_angle_turn = np.array([14.5, 14.0]) + blinding #degrees\n",
    "person3_angle_turn_sigma = np.array([0.5]) #degrees\n",
    "\n",
    "person4_angle_turn = np.array([12.9, 14.7]) + blinding #degrees\n",
    "person4_angle_turn_sigma = np.array([0.05]) #degrees\n",
    "\n",
    "angle_turn = np.zeros(len(person1_angle))\n",
    "angle_turn_err = np.zeros(len(person1_angle))\n",
    "for i in range(len(person1_height_length)):\n",
    "    mean, err, chi2, prob = weighted_mean(\n",
    "        [person1_angle_turn[i], person2_angle_turn[i], person3_angle_turn[i], person4_angle_turn[i]],\n",
    "        [person1_angle_turn_sigma[0], person2_angle_turn_sigma[0], person3_angle_turn_sigma[0], person4_angle_turn_sigma[0]]\n",
    "         )\n",
    "    angle[i]+=mean\n",
    "    angle_err[i]+=err[0]"
   ]
  },
  {
   "cell_type": "code",
   "execution_count": 164,
   "id": "22dded6f",
   "metadata": {},
   "outputs": [
    {
     "name": "stdout",
     "output_type": "stream",
     "text": [
      "Fit value: c = 0.52218 +/- 0.00378\n"
     ]
    }
   ],
   "source": [
    "if blind:\n",
    "    blinding = r.normal(0,.05, size=1)\n",
    "else:\n",
    "    blinding = np.zeros(1)\n",
    "\n",
    "#skinne afstand\n",
    "person1_rail = np.array([0.6]) + blinding #cm\n",
    "person1_rail_sigma = np.array([0.005]) #cm\n",
    "\n",
    "person2_rail = np.array([0.6]) + blinding #cm\n",
    "person2_rail_sigma = np.array([0.01]) #cm\n",
    "\n",
    "person3_rail = np.array([0.65]) + blinding #cm\n",
    "person3_rail_sigma = np.array([0.01]) #cm\n",
    "\n",
    "person4_rail = np.array([0.57, 0.58, 0.59]) + blinding #cm\n",
    "person4_rail_sigma = np.array([0.01]) #cm\n",
    "\n",
    "rail = np.zeros(len(person1_rail))\n",
    "rail_err = np.zeros(len(person1_rail))\n",
    "for i in range(len(person1_rail)):\n",
    "    mean, err, chi2, prob = weighted_mean(\n",
    "        [person1_rail[i], person2_rail[i], person3_rail[i], person4_rail[i]],\n",
    "        [person1_rail_sigma[0], person2_rail_sigma[0], person3_rail_sigma[0], person4_rail_sigma[0]]\n",
    "                                   )\n",
    "    rail[i]+=mean\n",
    "    rail_err[i]+=err[0]\n"
   ]
  },
  {
   "cell_type": "code",
   "execution_count": 182,
   "id": "3ff6a55e",
   "metadata": {},
   "outputs": [
    {
     "name": "stdout",
     "output_type": "stream",
     "text": [
      "Fit value: c = 14.51108 +/- 0.00100\n"
     ]
    }
   ],
   "source": [
    "if blind:\n",
    "    blinding = r.normal(0, 1)\n",
    "else:\n",
    "    blinding = np.zeros(1)\n",
    "\n",
    "#Diameter kugle\n",
    "person1_diam = np.array([14.91, 14.98, 14.97]) + blinding #mm\n",
    "person1_diam_sigma = np.array([0.005]) #mm\n",
    "\n",
    "person2_diam = np.array([15, 15.02, 15.02]) + blinding #mm\n",
    "person2_diam_sigma = np.array([0.002]) #mm\n",
    "\n",
    "person3_diam = np.array([14.96, 14.96, 14.98]) + blinding #mm\n",
    "person3_diam_sigma = np.array([0.02]) #mm\n",
    "\n",
    "person4_diam = np.array([14.92, 14.941, 14.878]) + blinding #mm\n",
    "person4_diam_sigma = np.array([0.005]) #mm\n",
    "\n",
    "diam = np.zeros(1)\n",
    "diam_err = np.zeros(1)\n",
    "for i in range(len(person1_rail)):\n",
    "    mean, err, chi2, prob = weighted_mean(\n",
    "        [*person1_diam, *person2_diam, *person3_diam, *person4_diam],\n",
    "        [person1_diam_sigma[0], person1_diam_sigma[0], person1_diam_sigma[0], #Vi har 3 målinger med samme usikkerhed\n",
    "         person2_diam_sigma[0], person2_diam_sigma[0], person2_diam_sigma[0],\n",
    "         person3_diam_sigma[0], person3_diam_sigma[0], person3_diam_sigma[0],\n",
    "         person4_diam_sigma[0], person4_diam_sigma[0], person4_diam_sigma[0]]\n",
    "                                   )\n",
    "    diam[i]+=mean\n",
    "    diam_err[i]+=err[0]"
   ]
  },
  {
   "cell_type": "code",
   "execution_count": 184,
   "id": "00c17626",
   "metadata": {},
   "outputs": [],
   "source": [
    "# Værdier vi har\n",
    "gate_pos, gate_err;          # Beliggenhed af gates +- sigma\n",
    "height_length, hl_err;       # Højde & Længde af bane +- sigma på hver\n",
    "angle, angle_err;            # Vinkel + bord +- sigma\n",
    "angle_turn, angle_turn_err;  # Vinkel + bord efter vending +- sigma\n",
    "rail, rail_err;              # Sliskebredde +- sigma\n",
    "diam, diam_err;              # Bolddiameter +- sigma\n"
   ]
  },
  {
   "cell_type": "code",
   "execution_count": 242,
   "id": "71b08486-0e96-4ed3-bb1a-16ca1953820d",
   "metadata": {},
   "outputs": [],
   "source": [
    "datnames = ['Incline_dat', 'Incline_datrot'] # The data for 'normal' table and rotated\n",
    "datnum = [16, 5] # How many of each dataset we have\n",
    "dattroels = 'Incline_Troels1.csv'\n",
    "\n",
    "#getting each dataset:\n",
    "dataset = 0 #Either dataset unrotated or rotated (0 or 1)\n",
    "data = []\n",
    "for i in range(datnum[dataset]):\n",
    "    file = 'dat/'+datnames[dataset]+str(i)+'.csv'\n",
    "    dat = np.genfromtxt(file, delimiter=',', skip_header=1)\n",
    "    time, voltage = dat[:,0], dat[:,1]\n",
    "    mask = (time<1)*(time>-0.2)\n",
    "    data += [[time[mask],voltage[mask]]] # Now data[i][0] is all the time data and [i][1] is the voltage\n",
    "\n",
    "# I checked all datasets, all 'passes' happened way before 1 second and after -0.2, so I've removed those"
   ]
  },
  {
   "cell_type": "code",
   "execution_count": 247,
   "id": "e7a18c47-0355-46ee-b6b6-7da64d24dc06",
   "metadata": {},
   "outputs": [
    {
     "data": {
      "image/png": "[encoded data removed]",
      "text/plain": [
       "<Figure size 640x480 with 1 Axes>"
      ]
     },
     "metadata": {},
     "output_type": "display_data"
    }
   ],
   "source": [
    "timepoints = np.zeros((datnum[dataset],5))\n",
    "for i in range(datnum[dataset]):\n",
    "    passnum = 0\n",
    "    for j in range(len(data[i][1])-1):\n",
    "        if (data[i][1][j]<4.5)*(data[i][1][j+1]>4.5):\n",
    "            plt.plot([data[0][0][j],data[0][0][j]], [0,5], '--')\n",
    "            timepoints[i,passnum]+=data[0][0][j]\n",
    "            passnum+=1"
   ]
  },
  {
   "cell_type": "code",
   "execution_count": 269,
   "id": "33cede5b-be9b-499c-9a79-e02ed9d1a6be",
   "metadata": {},
   "outputs": [],
   "source": [
    "#TAG NU og find ACC. !!!"
   ]
  },
  {
   "cell_type": "code",
   "execution_count": 270,
   "id": "0066ef6d-70f8-44b9-a4d7-f076822c5e52",
   "metadata": {},
   "outputs": [
    {
     "data": {
      "text/plain": [
       "array([0.6672, 0.671 , 0.6678, 0.6672, 0.6644, 0.6676, 0.667 , 0.6674,\n",
       "       0.6708, 0.6636, 0.6666, 0.6664, 0.6662, 0.6672, 0.6668, 0.667 ])"
      ]
     },
     "execution_count": 270,
     "metadata": {},
     "output_type": "execute_result"
    }
   ],
   "source": [
    "timepoints[:,i]"
   ]
  }
 ],
 "metadata": {
  "kernelspec": {
   "display_name": "Python 3 (ipykernel)",
   "language": "python",
   "name": "python3"
  },
  "language_info": {
   "codemirror_mode": {
    "name": "ipython",
    "version": 3
   },
   "file_extension": ".py",
   "mimetype": "text/x-python",
   "name": "python",
   "nbconvert_exporter": "python",
   "pygments_lexer": "ipython3",
   "version": "3.9.18"
  }
 },
 "nbformat": 4,
 "nbformat_minor": 5
}
