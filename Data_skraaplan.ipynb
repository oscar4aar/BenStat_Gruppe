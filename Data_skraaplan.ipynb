{
 "cells": [
  {
   "cell_type": "code",
   "execution_count": 1,
   "id": "322eb394",
   "metadata": {},
   "outputs": [],
   "source": [
    "import numpy as np                                     # Matlab like syntax for linear algebra and functions\n",
    "import matplotlib.pyplot as plt                        # Plots and figures like you know them from Matlab\n",
    "import seaborn as sns                                  # Make the plots nicer to look at\n",
    "from iminuit import Minuit                             # The actual fitting tool, better than scipy's\n",
    "import sys                                             # Modules to see files and folders in directories\n",
    "from scipy import stats\n",
    "from scipy.special import erfc                         # Error function, to get integral of Gaussian\n",
    "r = np.random"
   ]
  },
  {
   "cell_type": "code",
   "execution_count": 2,
   "id": "b4a3dc47-f117-446d-b6f7-956bca593c68",
   "metadata": {},
   "outputs": [],
   "source": [
    "sys.path.append('../AppStat2023/External_Functions')\n",
    "from ExternalFunctions import UnbinnedLH, BinnedLH, Chi2Regression\n",
    "from ExternalFunctions import nice_string_output, add_text_to_ax   "
   ]
  },
  {
   "cell_type": "code",
   "execution_count": 3,
   "id": "60f23e2e-0336-47b1-9bd8-b9baba811049",
   "metadata": {},
   "outputs": [],
   "source": [
    "blind = True"
   ]
  },
  {
   "cell_type": "code",
   "execution_count": 4,
   "id": "5759a496",
   "metadata": {},
   "outputs": [],
   "source": [
    "def Chauvenet(data): #Chauvenet med 1/4-del som kriterium frem for 1/2\n",
    "    n = 1\n",
    "    data_subset = data\n",
    "    while n>0:\n",
    "        n_bef = len(data_subset)\n",
    "        mask = (len(data_subset) * erfc(abs(data_subset - data_subset.mean()) / data_subset.std(ddof=1))) >= .05\n",
    "        data_subset = data_subset[mask]\n",
    "        n = n_bef - len(data_subset)\n",
    "        print(n)\n",
    "    return data_subset, len(data)-len(data_subset)"
   ]
  },
  {
   "cell_type": "code",
   "execution_count": 5,
   "id": "946ce10e-4c22-41ef-8e60-62f9301855ee",
   "metadata": {},
   "outputs": [],
   "source": [
    "def constant(x,c):\n",
    "    return c\n",
    "\n",
    "def fit(fit, x, y, sy):\n",
    "    Minuit.print_level = 1    # Print result of fits (generally - can also be moved down to each fit instance)\n",
    "    \n",
    "    chi2fit = Chi2Regression(fit, x, y, sy)\n",
    "    \n",
    "    minuit_chi2 = Minuit(chi2fit, c=0)\n",
    "    minuit_chi2.errordef = 1.0     # This is the definition for ChiSqaure fits\n",
    "    minuit_chi2.migrad();          # This is where the minimisation is carried out! Put \";\" at the end to void output\n",
    "    return minuit_chi2"
   ]
  },
  {
   "cell_type": "code",
   "execution_count": 6,
   "id": "32fb9243-1487-4296-8f23-3cc61dc6543f",
   "metadata": {},
   "outputs": [],
   "source": [
    "def weighted_mean(y_data, y_err):\n",
    "    mean = fit(constant,  # fit function\n",
    "               np.arange(len(y_data)), # arbitrary x_values\n",
    "               y_data, # y-data\n",
    "               y_err # y-error\n",
    "              )\n",
    "    for name in mean.parameters:\n",
    "        value, error = mean.values[name], mean.errors[name]\n",
    "        print(f\"Fit value: {name} = {value:.5f} +/- {error:.5f}\")\n",
    "    w_mean = mean.values['c']\n",
    "    w_err  = mean.errors['c'], \n",
    "    chi2_value = mean.fval\n",
    "    Ndof_value = len(y_data)-1 # data-points - 1 parameter\n",
    "    prob = stats.chi2.sf(chi2_value, Ndof_value)\n",
    "    return w_mean, w_err, chi2_value, prob"
   ]
  },
  {
   "cell_type": "code",
   "execution_count": 7,
   "id": "9852acfd",
   "metadata": {},
   "outputs": [
    {
     "name": "stdout",
     "output_type": "stream",
     "text": [
      "Fit value: c = 0.00000 +/- 0.05000\n",
      "Fit value: c = 17.08500 +/- 0.05000\n",
      "Fit value: c = 34.26000 +/- 0.05000\n",
      "Fit value: c = 51.28000 +/- 0.05000\n",
      "Fit value: c = 68.56250 +/- 0.05000\n"
     ]
    }
   ],
   "source": [
    "# Vi er 'lige blinde' på alle målinger af samme gate, men ikke på hver gate... Skal de alle forskydes lige meget i stedet måske?\n",
    "# Vi er ikke blinde på '0'\n",
    "\n",
    "if blind:\n",
    "    blinding = np.ones(5)*r.normal(0,5) # r.normal(0, 5, size=5) \n",
    "else:\n",
    "    blinding = np.zeros(5)\n",
    "\n",
    "#positioner af målere\n",
    "person1_pos = np.array([19.25, 35.48, 53.45, 69.95, 87.75]) + blinding #cm\n",
    "person1_pos += -person1_pos[0] # Sætter den første som 0 punkt\n",
    "person1_pos_sigma = np.array([0.1]) #np.array([0.05]) #cm\n",
    "\n",
    "person2_pos = np.array([17, 33.6, 51.4, 67.7, 85.6]) + blinding #cm\n",
    "person2_pos += -person2_pos[0]\n",
    "person2_pos_sigma = np.array([0.1]) #cm\n",
    "\n",
    "person3_pos = np.array([12.10, 29.85, 46.35, 64.05, 80.65]) + blinding #cm\n",
    "person3_pos += -person3_pos[0]\n",
    "person3_pos_sigma = np.array([0.1]) #np.array([0.05]) #cm\n",
    "\n",
    "person4_pos = np.array([11.24, 29.00, 45.43, 63.01, 79.84]) + blinding #cm\n",
    "person4_pos += -person4_pos[0]\n",
    "person4_pos_sigma = np.array([0.1]) #np.array([0.02]) #cm\n",
    "\n",
    "\n",
    "# Alternative weighted mean:\n",
    "#weighted_sigma = 1/np.sqrt(person1_pos_sigma**(-2) + person2_pos_sigma**(-2) + person3_pos_sigma**(-2) + person4_pos_sigma**(-2))\n",
    "#weighted_pos = person1_pos*person1_pos_sigma**(-2) + person2_pos*person2_pos_sigma**(-2) + person3_pos*person3_pos_sigma**(-2) + person4_pos*person4_pos_sigma**(-2)\n",
    "#weighted_pos *= weighted_sigma**(2)\n",
    "\n",
    "gate_pos = np.zeros(len(person1_pos))\n",
    "gate_err = np.zeros(len(person1_pos))\n",
    "\n",
    "for i in range(len(person1_pos)):\n",
    "    mean, err, chi2, prob = weighted_mean(\n",
    "        [person1_pos[i], person2_pos[i], person3_pos[i], person4_pos[i]],\n",
    "        [person1_pos_sigma[0], person2_pos_sigma[0], person3_pos_sigma[0], person4_pos_sigma[0]]\n",
    "                                   )\n",
    "    gate_pos[i]+=mean\n",
    "    gate_err[i]+=err[0]"
   ]
  },
  {
   "cell_type": "code",
   "execution_count": 8,
   "id": "afddb1b5",
   "metadata": {},
   "outputs": [
    {
     "data": {
      "text/plain": [
       "(array([ 0.  , 16.23, 34.2 , 50.7 , 68.5 ]),\n",
       " array([ 0. , 16.6, 34.4, 50.7, 68.6]),\n",
       " array([ 0.  , 17.75, 34.25, 51.95, 68.55]),\n",
       " array([ 0.  , 17.76, 34.19, 51.77, 68.6 ]))"
      ]
     },
     "execution_count": 8,
     "metadata": {},
     "output_type": "execute_result"
    }
   ],
   "source": [
    "person1_pos, person2_pos,person3_pos,person4_pos,"
   ]
  },
  {
   "cell_type": "code",
   "execution_count": 9,
   "id": "70d3a1a0",
   "metadata": {},
   "outputs": [
    {
     "name": "stdout",
     "output_type": "stream",
     "text": [
      "0\n",
      "[16.23 16.6  17.75 17.76]\n",
      "0\n",
      "[34.2  34.4  34.25 34.19]\n",
      "0\n",
      "[50.7  50.7  51.95 51.77]\n",
      "0\n",
      "[68.5  68.6  68.55 68.6 ]\n"
     ]
    }
   ],
   "source": [
    "#Implermentering af Chauvenet! - Fjerner ét datum\n",
    "for i in range(1, len(person1_pos)):\n",
    "    pos = np.array([person1_pos[i], person2_pos[i], person3_pos[i], person4_pos[i]])\n",
    "    pos_new, n_pos = Chauvenet(pos)\n",
    "    print(pos_new)"
   ]
  },
  {
   "cell_type": "code",
   "execution_count": 10,
   "id": "b3e8c231",
   "metadata": {},
   "outputs": [
    {
     "name": "stdout",
     "output_type": "stream",
     "text": [
      "Fit value: c = 22.20303 +/- 0.03288\n",
      "Fit value: c = 92.20396 +/- 0.03288\n"
     ]
    }
   ],
   "source": [
    "if blind:\n",
    "    blinding = r.normal(0, 3, size=2)\n",
    "else:\n",
    "    blinding = np.zeros(2)\n",
    "\n",
    "#trigonometri\n",
    "person1_height_length = np.array([22.05, 89.9])+blinding #cm height, length\n",
    "person1_hl_sigma = np.array([0.05]) #cm\n",
    "\n",
    "person2_height_length = np.array([22.1, 90.1])+blinding #cm height, length\n",
    "person2_hl_sigma = np.array([0.2]) #cm\n",
    "\n",
    "person3_height_length = np.array([22.7, 93.1])+blinding #cm height, length\n",
    "person3_hl_sigma = np.array([0.1]) #cm\n",
    "\n",
    "person4_height_length = np.array([22.34, 89.19])+blinding #cm height, length\n",
    "person4_hl_sigma = np.array([0.05]) #cm\n",
    "\n",
    "height_length = np.zeros(len(person1_height_length))\n",
    "hl_err = np.zeros(len(person1_height_length))\n",
    "\n",
    "for i in range(len(person1_height_length)):\n",
    "    mean, err, chi2, prob = weighted_mean(\n",
    "        [person1_height_length[i], person2_height_length[i], person3_height_length[i], person4_height_length[i]],\n",
    "        [person1_hl_sigma[0], person2_hl_sigma[0], person3_hl_sigma[0], person4_hl_sigma[0]]\n",
    "                                   )\n",
    "    height_length[i]+=mean\n",
    "    hl_err[i]+=err[0]"
   ]
  },
  {
   "cell_type": "code",
   "execution_count": 11,
   "id": "17c8cfe8",
   "metadata": {},
   "outputs": [
    {
     "name": "stdout",
     "output_type": "stream",
     "text": [
      "0\n",
      "[22.00599811 22.05599811 22.65599811 22.29599811]\n",
      "0\n",
      "[92.15963742 92.35963742 95.35963742 91.44963742]\n"
     ]
    }
   ],
   "source": [
    "for i in range(0, len(person4_height_length)):\n",
    "    pos = np.array([person1_height_length[i], person2_height_length[i], person3_height_length[i], person4_height_length[i]])\n",
    "    pos_new, n_pos = Chauvenet(pos)\n",
    "    print(pos_new)\n"
   ]
  },
  {
   "cell_type": "code",
   "execution_count": 12,
   "id": "d1329f5c",
   "metadata": {},
   "outputs": [
    {
     "name": "stdout",
     "output_type": "stream",
     "text": [
      "Fit value: c = 14.72164 +/- 0.03484\n"
     ]
    }
   ],
   "source": [
    "if blind:\n",
    "    blinding = np.ones(2)*r.normal(0,3, size=1) # Begge målinger forskydes med samme værdi\n",
    "else:\n",
    "    blinding = np.zeros(2)\n",
    "\n",
    "# vinkel\n",
    "person1_angle = np.array([13.1, 11.9]) + blinding #degrees - lille måleapperat, stort måleapperat\n",
    "person1_angle_sigma = np.array([0.5]) #degrees\n",
    "\n",
    "person2_angle = np.array([11, 13.5]) + blinding #degrees\n",
    "person2_angle_sigma = np.array([0.5]) #degrees\n",
    "\n",
    "person3_angle = np.array([14.5, 12.0]) + blinding #degrees\n",
    "person3_angle_sigma = np.array([0.5]) #degrees\n",
    "\n",
    "person4_angle = np.array([13.31, 13.34]) + blinding #degrees\n",
    "person4_angle_sigma = np.array([0.05]) #degrees\n",
    "\n",
    "\n",
    "\n",
    "angle = np.zeros(1)\n",
    "angle_err = np.zeros(1)\n",
    "for i in range(1):\n",
    "    mean, err, chi2, prob = weighted_mean(\n",
    "        [*person1_angle, *person2_angle, *person3_angle, *person4_angle],\n",
    "        [person1_angle_sigma[0], person1_angle_sigma[0], person2_angle_sigma[0], person2_angle_sigma[0], person3_angle_sigma[0], person3_angle_sigma[0], person4_angle_sigma[0], person4_angle_sigma[0]]\n",
    "    )\n",
    "    angle[i]+=mean\n",
    "    angle_err[i]+=err[0]"
   ]
  },
  {
   "cell_type": "code",
   "execution_count": 13,
   "id": "2eed3aeb",
   "metadata": {},
   "outputs": [
    {
     "name": "stdout",
     "output_type": "stream",
     "text": [
      "0\n"
     ]
    }
   ],
   "source": [
    "angle_samlet = np.concatenate((person1_angle, person2_angle, person3_angle, person4_angle))\n",
    "angle_ch, n_angle = Chauvenet(angle_samlet)\n",
    "if n_angle:\n",
    "    print(str(n_angle) + ' datapoints were removed')"
   ]
  },
  {
   "cell_type": "code",
   "execution_count": 14,
   "id": "277848b8",
   "metadata": {},
   "outputs": [
    {
     "name": "stdout",
     "output_type": "stream",
     "text": [
      "Fit value: c = 10.24095 +/- 0.03484\n"
     ]
    }
   ],
   "source": [
    "if blind:\n",
    "    blinding = np.ones(2)*r.normal(0,3, size=1)\n",
    "else:\n",
    "    blinding = np.zeros(2)\n",
    "    \n",
    "#vinkel efter vending - biased\n",
    "\n",
    "person1_angle_turn = np.array([13.7, 14.2]) + blinding #degrees - lille måleapperat, stort måleapperat\n",
    "person1_angle_turn_sigma = np.array([0.5]) #degrees\n",
    "\n",
    "\n",
    "person2_angle_turn = np.array([14.0, 14.5]) + blinding #degrees\n",
    "person2_angle_turn_sigma = np.array([0.5]) #degrees\n",
    "\n",
    "\n",
    "person3_angle_turn = np.array([14.5, 14.0]) + blinding #degrees\n",
    "person3_angle_turn_sigma = np.array([0.5]) #degrees\n",
    "\n",
    "person4_angle_turn = np.array([12.9, 14.7]) + blinding #degrees\n",
    "person4_angle_turn_sigma = np.array([0.05]) #degrees\n",
    "\n",
    "angle_turn = np.zeros(1)\n",
    "angle_turn_err = np.zeros(1)\n",
    "for i in range(1):\n",
    "    mean, err, chi2, prob = weighted_mean(\n",
    "        [*person1_angle_turn, *person2_angle_turn, *person3_angle_turn, *person4_angle_turn],\n",
    "        [person1_angle_turn_sigma[0], person1_angle_turn_sigma[0], person2_angle_turn_sigma[0], person2_angle_turn_sigma[0], person3_angle_turn_sigma[0], person3_angle_turn_sigma[0], person4_angle_turn_sigma[0], person4_angle_turn_sigma[0]]\n",
    "    )\n",
    "    angle_turn[i]+=mean\n",
    "    angle_turn_err[i]+=err[0]"
   ]
  },
  {
   "cell_type": "code",
   "execution_count": 15,
   "id": "2fb70214",
   "metadata": {},
   "outputs": [
    {
     "name": "stdout",
     "output_type": "stream",
     "text": [
      "0\n"
     ]
    }
   ],
   "source": [
    "angle_turn_samlet = np.concatenate((person1_angle_turn, person2_angle_turn, person3_angle_turn, person3_angle_turn)) \n",
    "angle_turn_ch, n_angle_turn = Chauvenet(angle_turn_samlet)\n",
    "if n_angle_turn:\n",
    "    print(str(n_angle_turn) + ' datapoints were removed')"
   ]
  },
  {
   "cell_type": "code",
   "execution_count": 16,
   "id": "22dded6f",
   "metadata": {},
   "outputs": [
    {
     "name": "stdout",
     "output_type": "stream",
     "text": [
      "Fit value: c = 0.65232 +/- 0.00378\n"
     ]
    }
   ],
   "source": [
    "if blind:\n",
    "    blinding = r.normal(0,.05, size=1)\n",
    "else:\n",
    "    blinding = np.zeros(1)\n",
    "\n",
    "#skinne afstand\n",
    "person1_rail = np.array([0.6]) + blinding #cm\n",
    "person1_rail_sigma = np.array([0.005]) #cm\n",
    "\n",
    "person2_rail = np.array([0.6]) + blinding #cm\n",
    "person2_rail_sigma = np.array([0.01]) #cm\n",
    "\n",
    "person3_rail = np.array([0.65]) + blinding #cm\n",
    "person3_rail_sigma = np.array([0.01]) #cm\n",
    "\n",
    "person4_rail = np.array([0.57, 0.58, 0.59]) + blinding #cm\n",
    "person4_rail_sigma = np.array([0.01]) #cm\n",
    "\n",
    "rail = np.zeros(len(person1_rail))\n",
    "rail_err = np.zeros(len(person1_rail))\n",
    "for i in range(len(person1_rail)):\n",
    "    mean, err, chi2, prob = weighted_mean(\n",
    "        [person1_rail[i], person2_rail[i], person3_rail[i], person4_rail[i]],\n",
    "        [person1_rail_sigma[0], person2_rail_sigma[0], person3_rail_sigma[0], person4_rail_sigma[0]]\n",
    "                                   )\n",
    "    rail[i]+=mean\n",
    "    rail_err[i]+=err[0]\n"
   ]
  },
  {
   "cell_type": "code",
   "execution_count": 17,
   "id": "e66f43d6",
   "metadata": {},
   "outputs": [
    {
     "name": "stdout",
     "output_type": "stream",
     "text": [
      "0\n"
     ]
    }
   ],
   "source": [
    "rail_samlet = np.concatenate((person1_rail, person2_rail, person3_rail, person4_rail))\n",
    "rail_ch, n_rail = Chauvenet(rail_samlet) #fjerner ét datum\n",
    "if n_rail:\n",
    "    print(str(n_rail) + ' datapoints were removed')"
   ]
  },
  {
   "cell_type": "code",
   "execution_count": 18,
   "id": "3ff6a55e",
   "metadata": {},
   "outputs": [
    {
     "name": "stdout",
     "output_type": "stream",
     "text": [
      "Fit value: c = 13.30301 +/- 0.00100\n"
     ]
    }
   ],
   "source": [
    "if blind:\n",
    "    blinding = r.normal(0, 1)\n",
    "else:\n",
    "    blinding = np.zeros(1)\n",
    "\n",
    "#Diameter kugle\n",
    "person1_diam = np.array([14.91, 14.98, 14.97]) + blinding #mm\n",
    "person1_diam_sigma = np.array([0.005]) #mm\n",
    "\n",
    "person2_diam = np.array([15, 15.02, 15.02]) + blinding #mm\n",
    "person2_diam_sigma = np.array([0.002]) #mm\n",
    "\n",
    "person3_diam = np.array([14.96, 14.96, 14.98]) + blinding #mm\n",
    "person3_diam_sigma = np.array([0.02]) #mm\n",
    "\n",
    "person4_diam = np.array([14.92, 14.941, 14.878]) + blinding #mm\n",
    "person4_diam_sigma = np.array([0.005]) #mm\n",
    "\n",
    "diam = np.zeros(1)\n",
    "diam_err = np.zeros(1)\n",
    "for i in range(len(person1_rail)):\n",
    "    mean, err, chi2, prob = weighted_mean(\n",
    "        [*person1_diam, *person2_diam, *person3_diam, *person4_diam],\n",
    "        [person1_diam_sigma[0], person1_diam_sigma[0], person1_diam_sigma[0], #Vi har 3 målinger med samme usikkerhed\n",
    "         person2_diam_sigma[0], person2_diam_sigma[0], person2_diam_sigma[0],\n",
    "         person3_diam_sigma[0], person3_diam_sigma[0], person3_diam_sigma[0],\n",
    "         person4_diam_sigma[0], person4_diam_sigma[0], person4_diam_sigma[0]]\n",
    "                                   )\n",
    "    diam[i]+=mean\n",
    "    diam_err[i]+=err[0]"
   ]
  },
  {
   "cell_type": "code",
   "execution_count": 19,
   "id": "5a3e6107",
   "metadata": {},
   "outputs": [
    {
     "name": "stdout",
     "output_type": "stream",
     "text": [
      "0\n"
     ]
    }
   ],
   "source": [
    "diam_samlet = np.concatenate((person1_diam, person2_diam, person3_diam, person4_diam))\n",
    "diam_ch, n_diam = Chauvenet(diam_samlet) #fjerner tre datapunkter\n",
    "if n_diam:\n",
    "    print(str(n_diam) + ' datapoints were removed')"
   ]
  },
  {
   "cell_type": "code",
   "execution_count": 20,
   "id": "00c17626",
   "metadata": {},
   "outputs": [],
   "source": [
    "# Værdier vi har\n",
    "gate_pos, gate_err;          # Beliggenhed af gates +- sigma\n",
    "height_length, hl_err;       # Højde & Længde af bane +- sigma på hver\n",
    "angle, angle_err;            # Vinkel + bord +- sigma\n",
    "angle_turn, angle_turn_err;  # Vinkel + bord efter vending +- sigma\n",
    "rail, rail_err;              # Sliskebredde +- sigma\n",
    "diam, diam_err;              # Bolddiameter +- sigma\n"
   ]
  },
  {
   "cell_type": "code",
   "execution_count": 21,
   "id": "71b08486-0e96-4ed3-bb1a-16ca1953820d",
   "metadata": {},
   "outputs": [],
   "source": [
    "datnames = ['Incline_dat', 'Incline_datrot'] # The data for 'normal' table and rotated\n",
    "datnum = [16, 5] # How many of each dataset we have\n",
    "dattroels = 'Incline_Troels1.csv'\n",
    "\n",
    "#getting each dataset:\n",
    "dataset = 0 #Either dataset unrotated or rotated (0 or 1)\n",
    "data = []\n",
    "for i in range(datnum[dataset]):\n",
    "    file = 'dat/'+datnames[dataset]+str(i)+'.csv'\n",
    "    dat = np.genfromtxt(file, delimiter=',', skip_header=1)\n",
    "    time, voltage = dat[:,0], dat[:,1]\n",
    "    mask = (time<1)*(time>-0.2)\n",
    "    data += [[time[mask],voltage[mask]]] # Now data[i][0] is all the time data and [i][1] is the voltage\n",
    "# I checked all datasets, all 'passes' happened way before 1 second and after -0.2, so I've removed those"
   ]
  },
  {
   "cell_type": "code",
   "execution_count": 22,
   "id": "e7a18c47-0355-46ee-b6b6-7da64d24dc06",
   "metadata": {},
   "outputs": [
    {
     "data": {
      "image/png": "[encoded data removed]",
      "text/plain": [
       "<Figure size 640x480 with 1 Axes>"
      ]
     },
     "metadata": {},
     "output_type": "display_data"
    }
   ],
   "source": [
    "if blind:\n",
    "    blinding = r.uniform(0,0.01, size=5)\n",
    "else:\n",
    "    blinding = np.zeros(5)\n",
    "\n",
    "timepoints = np.zeros((datnum[dataset],5))\n",
    "for i in range(datnum[dataset]):\n",
    "    passnum = 0\n",
    "    for j in range(len(data[i][1])-1):\n",
    "        if (data[i][1][j]<4.5)*(data[i][1][j+1]>4.5):\n",
    "            timepoints[i,passnum]+=data[0][0][j] + blinding[passnum]\n",
    "            plt.plot([timepoints[i,passnum],timepoints[i,passnum]], [0,5], '--')\n",
    "            passnum+=1"
   ]
  },
  {
   "cell_type": "code",
   "execution_count": 27,
   "id": "0066ef6d-70f8-44b9-a4d7-f076822c5e52",
   "metadata": {},
   "outputs": [
    {
     "name": "stdout",
     "output_type": "stream",
     "text": [
      "chi2 = 291.93356400769636, ndof = 2, p = 4.049785625615654e-64\n",
      "158.05353126572726 49.47552302047031 -0.22808031781334603\n"
     ]
    },
    {
     "data": {
      "image/png": "[encoded data removed]",
      "text/plain": [
       "<Figure size 640x480 with 1 Axes>"
      ]
     },
     "metadata": {},
     "output_type": "display_data"
    }
   ],
   "source": [
    "# fit of a single experiment\n",
    "# Something bad happended to the chi2\n",
    "# review gate_err, mihgt wanna consider moving away from own estimate of errors\n",
    "\n",
    "plt.errorbar(timepoints[1], gate_pos, yerr=gate_err*50, fmt='.')\n",
    "def fit_func(t, a, v0, s0):\n",
    "    return 1/2 * a * t**2 + v0 * t + s0\n",
    "\n",
    "def fit(fit, x, y, sy):\n",
    "    Minuit.print_level = 1    # Print result of fits (generally - can also be moved down to each fit instance)\n",
    "    chi2fit = Chi2Regression(fit, x, y, sy)\n",
    "    minuit_chi2 = Minuit(chi2fit, a=1, v0=0.5, s0=0)\n",
    "    minuit_chi2.errordef = 1.0     # This is the definition for ChiSqaure fits\n",
    "    minuit_chi2.migrad();          # This is where the minimisation is carried out! Put \";\" at the end to void output\n",
    "    return minuit_chi2\n",
    "\n",
    "fit_result = fit(fit_func, timepoints[1], gate_pos, gate_err)\n",
    "ndof = len(timepoints[1]) - 3\n",
    "prob = stats.chi2.sf(fit_result.fval, ndof)\n",
    "\n",
    "print(f\"chi2 = {fit_result.fval}, ndof = {ndof}, p = {prob}\")\n",
    "x = np.linspace(timepoints[1][0], timepoints[1][-1], 100)\n",
    "plt.plot(x, fit_func(x, *fit_result.values))\n",
    "print(*fit_result.values)\n"
   ]
  },
  {
   "cell_type": "code",
   "execution_count": 24,
   "id": "e07a2c42-6ff4-495c-84fc-a9bdb92fbad2",
   "metadata": {},
   "outputs": [
    {
     "data": {
      "text/latex": [
       "$$g = \\frac{a \\left(\\frac{0.4 D^{2}}{D^{2} - d^{2}} + 1\\right)}{\\sin{\\left(\\Delta + \\theta \\right)}}$$"
      ],
      "text/plain": [
       "<IPython.core.display.Latex object>"
      ]
     },
     "metadata": {},
     "output_type": "display_data"
    },
    {
     "data": {
      "text/latex": [
       "$$\\sigma_{g} = \\sqrt{\\frac{0.64 D^{4} a^{2} d^{2} \\sigma_{d}^{2}}{\\left(D^{2} - d^{2}\\right)^{4} \\sin^{2}{\\left(\\Delta + \\theta \\right)}} + \\frac{0.64 a^{2} \\sigma_{D}^{2} \\left(- \\frac{D^{3}}{\\left(D^{2} - d^{2}\\right)^{2}} + \\frac{D}{D^{2} - d^{2}}\\right)^{2}}{\\sin^{2}{\\left(\\Delta + \\theta \\right)}} + \\frac{a^{2} \\sigma_{\\Delta}^{2} \\left(\\frac{0.4 D^{2}}{D^{2} - d^{2}} + 1\\right)^{2} \\cos^{2}{\\left(\\Delta + \\theta \\right)}}{\\sin^{4}{\\left(\\Delta + \\theta \\right)}} + \\frac{a^{2} \\sigma_{\\theta}^{2} \\left(\\frac{0.4 D^{2}}{D^{2} - d^{2}} + 1\\right)^{2} \\cos^{2}{\\left(\\Delta + \\theta \\right)}}{\\sin^{4}{\\left(\\Delta + \\theta \\right)}} + \\frac{\\sigma_{a}^{2} \\left(\\frac{0.4 D^{2}}{D^{2} - d^{2}} + 1\\right)^{2}}{\\sin^{2}{\\left(\\Delta + \\theta \\right)}}}$$"
      ],
      "text/plain": [
       "<IPython.core.display.Latex object>"
      ]
     },
     "metadata": {},
     "output_type": "display_data"
    }
   ],
   "source": [
    "from errorPropIncline import *"
   ]
  },
  {
   "cell_type": "code",
   "execution_count": null,
   "id": "4ee5a63b",
   "metadata": {},
   "outputs": [],
   "source": []
  }
 ],
 "metadata": {
  "kernelspec": {
   "display_name": "Python 3 (ipykernel)",
   "language": "python",
   "name": "python3"
  },
  "language_info": {
   "codemirror_mode": {
    "name": "ipython",
    "version": 3
   },
   "file_extension": ".py",
   "mimetype": "text/x-python",
   "name": "python",
   "nbconvert_exporter": "python",
   "pygments_lexer": "ipython3",
   "version": "3.9.18"
  }
 },
 "nbformat": 4,
 "nbformat_minor": 5
}
