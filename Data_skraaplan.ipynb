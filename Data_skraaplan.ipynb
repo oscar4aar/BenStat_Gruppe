{
 "cells": [
  {
   "cell_type": "code",
   "execution_count": 1,
   "id": "322eb394",
   "metadata": {},
   "outputs": [],
   "source": [
    "import numpy as np                                     # Matlab like syntax for linear algebra and functions\n",
    "import matplotlib.pyplot as plt                        # Plots and figures like you know them from Matlab\n",
    "import seaborn as sns                                  # Make the plots nicer to look at\n",
    "from iminuit import Minuit                             # The actual fitting tool, better than scipy's\n",
    "import sys                                             # Modules to see files and folders in directories"
   ]
  },
  {
   "cell_type": "code",
   "execution_count": 2,
   "id": "9852acfd",
   "metadata": {},
   "outputs": [],
   "source": [
    "#positioner af målere\n",
    "person1_pos = np.array([19.25, 35.48, 53.45, 69.95, 87.75]) #cm\n",
    "person1_pos_sigma = np.array([0.05]) #cm\n",
    "\n",
    "person2_pos = np.array([17, 33.6, 51.4, 67.7, 85.6]) #cm\n",
    "person2_pos_sigma = np.array([0.1]) #cm\n",
    "\n",
    "person3_pos = np.array([12.10, 29.85, 46.35, 64.05, 80.65]) #cm\n",
    "person3_pos_sigma = np.array([0.05]) #cm\n",
    "\n",
    "person4_pos = np.array([11.24, 29.00, 45.43, 63.01, 79.84]) #cm\n",
    "person4_pos_sigma = np.array([0.02]) #cm\n"
   ]
  },
  {
   "cell_type": "code",
   "execution_count": null,
   "id": "b3e8c231",
   "metadata": {},
   "outputs": [],
   "source": [
    "#trigonometri\n",
    "person1_height_length = np.array([22.05, 89.9]) #cm height, length\n",
    "person1_hl_sigma = np.array([0.05]) #cm\n",
    "\n",
    "person2_height_length = np.array([22.1, 90.1]) #cm height, length\n",
    "person2_hl_sigma = np.array([0.2]) #cm\n",
    "\n",
    "person3_height_length = np.array([22.7, 93.1]) #cm height, length\n",
    "person3_hl_sigma = np.array([0.1]) #cm\n",
    "\n",
    "person4_height_length = np.array([22.34, 89.19]) #cm height, length\n",
    "person4_hl_sigma = np.array([0.05]) #cm\n"
   ]
  },
  {
   "cell_type": "code",
   "execution_count": 3,
   "id": "d1329f5c",
   "metadata": {},
   "outputs": [],
   "source": [
    "# vinkel\n",
    "person1_angle = np.array([13.1, 11.9]) #degrees - lille måleapperat, stort måleapperat\n",
    "person1_angle_sigma = np.array([0.5]) #degrees\n",
    "\n",
    "person2_angle = np.array([11, 13.5]) #degrees\n",
    "person2_angle_sigma = np.array([0.5]) #degrees\n",
    "\n",
    "person3_angle = np.array([14.5, 12.0]) #degrees\n",
    "person3_angle_sigma = np.array([0.5]) #degrees\n",
    "\n",
    "person4_angle = np.array([13.31, 13.34]) #degrees\n",
    "person4_angle_sigma = np.array([0.05]) #degrees\n",
    "\n"
   ]
  },
  {
   "cell_type": "code",
   "execution_count": 4,
   "id": "277848b8",
   "metadata": {},
   "outputs": [],
   "source": [
    "#vinkel efter vending - biased\n",
    "\n",
    "person1_angle_turn = np.array([13.7, 14.2]) #degrees - lille måleapperat, stort måleapperat\n",
    "person1_angle_turn_sigma = np.array([0.5]) #degrees\n",
    "\n",
    "\n",
    "person2_angle_turn = np.array([14.0, 14.5]) #degrees\n",
    "person2_angle_turn_sigma = np.array([0.5]) #degrees\n",
    "\n",
    "\n",
    "person3_angle_turn = np.array([14.5, 14.0]) #degrees\n",
    "person3_angle_turn_sigma = np.array([0.5]) #degrees\n",
    "\n",
    "person4_angle_turn = np.array([12.9, 14.7]) #degrees\n",
    "person4_angle_turn_sigma = np.array([0.05]) #degrees\n"
   ]
  },
  {
   "cell_type": "code",
   "execution_count": 5,
   "id": "22dded6f",
   "metadata": {},
   "outputs": [],
   "source": [
    "#skinne afstand\n",
    "person1_rail = np.array([0.6]) #cm\n",
    "person1_rail_sigma = np.array([0.005]) #cm\n",
    "\n",
    "person2_rail = np.array([0.6]) #cm\n",
    "person2_rail_sigma = np.array([0.01]) #cm\n",
    "\n",
    "person3_rail = np.array([0.65]) #cm\n",
    "person3_rail_sigma = np.array([0.01]) #cm\n",
    "\n",
    "person4_rail = np.array([0.57, 0.58, 0.59]) #cm\n",
    "person4_rail_sigma = np.array([0.01]) #cm\n"
   ]
  },
  {
   "cell_type": "code",
   "execution_count": 6,
   "id": "3ff6a55e",
   "metadata": {},
   "outputs": [],
   "source": [
    "#Diameter kugle\n",
    "person1_diam = np.array([14.91, 14.98, 14.97]) #mm\n",
    "person1_diam_sigma = np.array([0.005]) #mm\n",
    "\n",
    "person2_diam = np.array([15, 15.02, 15.02]) #mm\n",
    "person2_diam_sigma = np.array([0.002]) #mm\n",
    "\n",
    "person3_diam = np.array([14.96, 14.96, 14.98]) #mm\n",
    "person3_diam_sigma = np.array([0.02]) #mm\n",
    "\n",
    "person4_diam = np.array([14.92, 14.941, 14.878]) #mm\n",
    "person4_diam_sigma = np.array([0.005]) #mm\n"
   ]
  },
  {
   "cell_type": "code",
   "execution_count": null,
   "id": "00c17626",
   "metadata": {},
   "outputs": [],
   "source": []
  }
 ],
 "metadata": {
  "kernelspec": {
   "display_name": "Python 3 (ipykernel)",
   "language": "python",
   "name": "python3"
  },
  "language_info": {
   "codemirror_mode": {
    "name": "ipython",
    "version": 3
   },
   "file_extension": ".py",
   "mimetype": "text/x-python",
   "name": "python",
   "nbconvert_exporter": "python",
   "pygments_lexer": "ipython3",
   "version": "3.11.5"
  }
 },
 "nbformat": 4,
 "nbformat_minor": 5
}
