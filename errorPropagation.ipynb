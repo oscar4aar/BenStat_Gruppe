{
 "cells": [
  {
   "cell_type": "code",
   "execution_count": 2,
   "metadata": {},
   "outputs": [],
   "source": [
    "import numpy as np                                     # Matlab like syntax for linear algebra and functions\n",
    "import matplotlib.pyplot as plt                        # Plots and figures like you know them from Matlab\n",
    "import seaborn as sns                                  # Make the plots nicer to look at\n",
    "from iminuit import Minuit                             # The actual fitting tool, better than scipy's\n",
    "import sys                                             # Modules to see files and folders in directories"
   ]
  },
  {
   "cell_type": "code",
   "execution_count": 1,
   "metadata": {},
   "outputs": [],
   "source": [
    "from IPython.core.display import Latex\n",
    "\n",
    "def lprint(*args,**kwargs):\n",
    "    \"\"\"Pretty print arguments as LaTeX using IPython display system \n",
    "    \n",
    "    Parameters\n",
    "    ----------\n",
    "    args : tuple \n",
    "        What to print (in LaTeX math mode)\n",
    "    kwargs : dict \n",
    "        optional keywords to pass to `display` \n",
    "    \"\"\"\n",
    "    display(Latex('$$'+' '.join(args)+'$$'),**kwargs)"
   ]
  },
  {
   "cell_type": "markdown",
   "metadata": {},
   "source": [
    "# Pendulum"
   ]
  },
  {
   "cell_type": "code",
   "execution_count": 10,
   "metadata": {},
   "outputs": [
    {
     "data": {
      "text/latex": [
       "$$g = \\frac{4 \\pi^{2} L}{T^{2}}$$"
      ],
      "text/plain": [
       "<IPython.core.display.Latex object>"
      ]
     },
     "metadata": {},
     "output_type": "display_data"
    },
    {
     "data": {
      "text/latex": [
       "$$\\sigma_{g} = \\sqrt{\\frac{64 \\pi^{4} L^{2} \\sigma_{T}^{2}}{T^{6}} + \\frac{16 \\pi^{4} \\sigma_{L}^{2}}{T^{4}}}$$"
      ],
      "text/plain": [
       "<IPython.core.display.Latex object>"
      ]
     },
     "metadata": {},
     "output_type": "display_data"
    }
   ],
   "source": [
    "# Import SymPy: \n",
    "from sympy import * \n",
    "    \n",
    "# Define variables:\n",
    "g, L, T= symbols(\"g, L, T\")\n",
    "dg,dL,dT = symbols(\"sigma_g, sigma_L, sigma_T\")\n",
    "\n",
    "# Perimeter:\n",
    "# Define relation, and print:\n",
    "g = L * ((2 * pi)/T)**2\n",
    "lprint(latex(Eq(symbols('g'),g)))\n",
    "\n",
    "# Calculate uncertainty and print:\n",
    "dg = sqrt(g.diff(L)**2 * dL**2 + g.diff(T)**2 * dT**2)\n",
    "lprint(latex(Eq(symbols('sigma_g'), dg)))\n"
   ]
  },
  {
   "cell_type": "markdown",
   "metadata": {},
   "source": [
    "# Ball on a incline"
   ]
  },
  {
   "cell_type": "code",
   "execution_count": 16,
   "metadata": {},
   "outputs": [
    {
     "data": {
      "text/latex": [
       "$$g = \\frac{a \\left(\\frac{0.4 D^{2}}{D^{2} - d^{2}} + 1\\right)}{\\sin{\\left(\\Delta \\theta + \\theta \\right)}}$$"
      ],
      "text/plain": [
       "<IPython.core.display.Latex object>"
      ]
     },
     "metadata": {},
     "output_type": "display_data"
    },
    {
     "data": {
      "text/latex": [
       "$$\\sigma_{g} = \\sqrt{\\frac{0.64 D^{4} a^{2} d^{2} \\sigma_{d}^{2}}{\\left(D^{2} - d^{2}\\right)^{4} \\sin^{2}{\\left(\\Delta \\theta + \\theta \\right)}} + \\frac{0.64 a^{2} \\sigma_{D}^{2} \\left(- \\frac{D^{3}}{\\left(D^{2} - d^{2}\\right)^{2}} + \\frac{D}{D^{2} - d^{2}}\\right)^{2}}{\\sin^{2}{\\left(\\Delta \\theta + \\theta \\right)}} + \\frac{a^{2} \\sigma_{\\theta}^{2} \\left(\\Delta + 1\\right)^{2} \\left(\\frac{0.4 D^{2}}{D^{2} - d^{2}} + 1\\right)^{2} \\cos^{2}{\\left(\\Delta \\theta + \\theta \\right)}}{\\sin^{4}{\\left(\\Delta \\theta + \\theta \\right)}} + \\frac{\\sigma_{a}^{2} \\left(\\frac{0.4 D^{2}}{D^{2} - d^{2}} + 1\\right)^{2}}{\\sin^{2}{\\left(\\Delta \\theta + \\theta \\right)}}}$$"
      ],
      "text/plain": [
       "<IPython.core.display.Latex object>"
      ]
     },
     "metadata": {},
     "output_type": "display_data"
    }
   ],
   "source": [
    "\n",
    "# Import SymPy: \n",
    "from sympy import * \n",
    "# Define variables:\n",
    "g, a, D, d, theta, Delta= symbols(\"g, a, D, d, theta, Delta\")\n",
    "dg, da, dD, dd, dtheta = symbols(\"sigma_g, sigma_a, sigma_D, sigma_d, sigma_theta\")\n",
    "\n",
    "# Perimeter:\n",
    "# Define relation, and print:\n",
    "g = a / sin(theta + Delta * theta) * (1 + 2/5 * D**2 / (D**2 - d**2))\n",
    "lprint(latex(Eq(symbols('g'),g)))\n",
    "\n",
    "# Calculate uncertainty and print:\n",
    "dg = sqrt(g.diff(a)**2 * da**2 + g.diff(D)**2 * dD**2 + g.diff(d)**2 * dd**2 + g.diff(theta)**2 * dtheta**2)\n",
    "lprint(latex(Eq(symbols('sigma_g'), dg)))"
   ]
  },
  {
   "cell_type": "code",
   "execution_count": null,
   "metadata": {},
   "outputs": [],
   "source": []
  }
 ],
 "metadata": {
  "kernelspec": {
   "display_name": "Python 3",
   "language": "python",
   "name": "python3"
  },
  "language_info": {
   "codemirror_mode": {
    "name": "ipython",
    "version": 3
   },
   "file_extension": ".py",
   "mimetype": "text/x-python",
   "name": "python",
   "nbconvert_exporter": "python",
   "pygments_lexer": "ipython3",
   "version": "3.10.9"
  }
 },
 "nbformat": 4,
 "nbformat_minor": 2
}
