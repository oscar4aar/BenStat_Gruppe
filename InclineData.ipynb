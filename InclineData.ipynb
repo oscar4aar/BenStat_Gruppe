{
 "cells": [
  {
   "cell_type": "code",
   "execution_count": 15,
   "id": "dfade002-d78b-4c4d-b5cf-0c405a305918",
   "metadata": {},
   "outputs": [
    {
     "data": {
      "text/latex": [
       "$$g = \\frac{a \\left(\\frac{0.4 D^{2}}{D^{2} - d^{2}} + 1\\right)}{\\sin{\\left(\\Delta + \\theta \\right)}}$$"
      ],
      "text/plain": [
       "<IPython.core.display.Latex object>"
      ]
     },
     "metadata": {},
     "output_type": "display_data"
    },
    {
     "data": {
      "text/latex": [
       "$$\\sigma_{g} = \\sqrt{\\frac{0.64 D^{4} a^{2} d^{2} \\sigma_{d}^{2}}{\\left(D^{2} - d^{2}\\right)^{4} \\sin^{2}{\\left(\\Delta + \\theta \\right)}} + \\frac{0.64 a^{2} \\sigma_{D}^{2} \\left(- \\frac{D^{3}}{\\left(D^{2} - d^{2}\\right)^{2}} + \\frac{D}{D^{2} - d^{2}}\\right)^{2}}{\\sin^{2}{\\left(\\Delta + \\theta \\right)}} + \\frac{a^{2} \\sigma_{\\Delta}^{2} \\left(\\frac{0.4 D^{2}}{D^{2} - d^{2}} + 1\\right)^{2} \\cos^{2}{\\left(\\Delta + \\theta \\right)}}{\\sin^{4}{\\left(\\Delta + \\theta \\right)}} + \\frac{a^{2} \\sigma_{\\theta}^{2} \\left(\\frac{0.4 D^{2}}{D^{2} - d^{2}} + 1\\right)^{2} \\cos^{2}{\\left(\\Delta + \\theta \\right)}}{\\sin^{4}{\\left(\\Delta + \\theta \\right)}} + \\frac{\\sigma_{a}^{2} \\left(\\frac{0.4 D^{2}}{D^{2} - d^{2}} + 1\\right)^{2}}{\\sin^{2}{\\left(\\Delta + \\theta \\right)}}}$$"
      ],
      "text/plain": [
       "<IPython.core.display.Latex object>"
      ]
     },
     "metadata": {},
     "output_type": "display_data"
    }
   ],
   "source": [
    "import numpy as np                                     # Matlab like syntax for linear algebra and functions\n",
    "import matplotlib.pyplot as plt                        # Plots and figures like you know them from Matlab\n",
    "import seaborn as sns                                  # Make the plots nicer to look at\n",
    "from iminuit import Minuit                             # The actual fitting tool, better than scipy's\n",
    "import sys                                             # Modules to see files and folders in directories\n",
    "from errorPropIncline import *"
   ]
  },
  {
   "cell_type": "code",
   "execution_count": null,
   "id": "e8c16c5b-4710-4feb-b307-c6fa4905f45f",
   "metadata": {},
   "outputs": [],
   "source": [
    "# Made by A\n"
   ]
  },
  {
   "cell_type": "code",
   "execution_count": 8,
   "id": "8f2fdd3f-9040-414b-b94e-82a4541fd6a1",
   "metadata": {},
   "outputs": [],
   "source": [
    "Dball = [[], [], [], []] # Dataset for each of us.\n",
    "dRail = [] # Measurement from each of us\n",
    "\n",
    "thetatrig = [[], [], [], []] #All the lengths used for trig\n",
    "thetagoni = []\n",
    "\n",
    "xGates = [] # Gate positions\n",
    "sxGates= np.ones(len(xGates))*1\n",
    "\n",
    "times = [[],[],[],[]] # IMPORT DATA\n",
    "sTime = [] # Our timing accuracies\n",
    "\n",
    "\n",
    "\n"
   ]
  },
  {
   "cell_type": "code",
   "execution_count": 23,
   "id": "8bcc3081-3805-4f5b-bdd0-2af256e0117b",
   "metadata": {},
   "outputs": [
    {
     "data": {
      "text/latex": [
       "$\\displaystyle 25 \\sqrt{\\frac{0.64 D^{4} d^{2} \\sigma_{d}^{2}}{\\left(D^{2} - d^{2}\\right)^{4} \\sin^{2}{\\left(\\Delta + \\theta \\right)}} + \\frac{0.64 \\sigma_{D}^{2} \\left(- \\frac{D^{3}}{\\left(D^{2} - d^{2}\\right)^{2}} + \\frac{D}{D^{2} - d^{2}}\\right)^{2}}{\\sin^{2}{\\left(\\Delta + \\theta \\right)}} + \\frac{\\sigma_{\\Delta}^{2} \\left(\\frac{0.4 D^{2}}{D^{2} - d^{2}} + 1\\right)^{2} \\cos^{2}{\\left(\\Delta + \\theta \\right)}}{\\sin^{4}{\\left(\\Delta + \\theta \\right)}} + \\frac{\\sigma_{a}^{2} \\left(\\frac{0.4 D^{2}}{D^{2} - d^{2}} + 1\\right)^{2}}{625 \\sin^{2}{\\left(\\Delta + \\theta \\right)}} + \\frac{\\sigma_{\\theta}^{2} \\left(\\frac{0.4 D^{2}}{D^{2} - d^{2}} + 1\\right)^{2} \\cos^{2}{\\left(\\Delta + \\theta \\right)}}{\\sin^{4}{\\left(\\Delta + \\theta \\right)}}}$"
      ],
      "text/plain": [
       "25*sqrt(0.64*D**4*d**2*sigma_d**2/((D**2 - d**2)**4*sin(Delta + theta)**2) + 0.64*sigma_D**2*(-D**3/(D**2 - d**2)**2 + D/(D**2 - d**2))**2/sin(Delta + theta)**2 + sigma_Delta**2*(0.4*D**2/(D**2 - d**2) + 1)**2*cos(Delta + theta)**2/sin(Delta + theta)**4 + sigma_a**2*(0.4*D**2/(D**2 - d**2) + 1)**2/(625*sin(Delta + theta)**2) + sigma_theta**2*(0.4*D**2/(D**2 - d**2) + 1)**2*cos(Delta + theta)**2/sin(Delta + theta)**4)"
      ]
     },
     "execution_count": 23,
     "metadata": {},
     "output_type": "execute_result"
    }
   ],
   "source": [
    "sigma_g = dg.subs({a:1, da:1,\n",
    "                  theta:1, dtheta:1,\n",
    "                  Delta:1, dDelta:1,\n",
    "                  D:1, dD:1,\n",
    "                  d:1, dd:1}\n",
    "                 )"
   ]
  },
  {
   "cell_type": "code",
   "execution_count": null,
   "id": "fba4d976-b439-4b64-a8a6-453c13768fd4",
   "metadata": {},
   "outputs": [],
   "source": []
  }
 ],
 "metadata": {
  "kernelspec": {
   "display_name": "Python 3 (ipykernel)",
   "language": "python",
   "name": "python3"
  },
  "language_info": {
   "codemirror_mode": {
    "name": "ipython",
    "version": 3
   },
   "file_extension": ".py",
   "mimetype": "text/x-python",
   "name": "python",
   "nbconvert_exporter": "python",
   "pygments_lexer": "ipython3",
   "version": "3.9.18"
  }
 },
 "nbformat": 4,
 "nbformat_minor": 5
}
