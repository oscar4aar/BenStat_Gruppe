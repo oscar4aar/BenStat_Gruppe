{
 "cells": [
  {
   "cell_type": "code",
   "execution_count": 1,
   "id": "dcb15df9",
   "metadata": {},
   "outputs": [],
   "source": [
    "import numpy as np"
   ]
  },
  {
   "cell_type": "code",
   "execution_count": 4,
   "id": "ef30cc03",
   "metadata": {},
   "outputs": [],
   "source": [
    "#Pendulforsøg 1\n",
    "#Målebåndsmålinger\n",
    "L_baand_bund = np.array([191.52, 191.7, 192.35, 191.9]) #i cm - rækkefølge: Anders, Makito, Jakob og Christine\n",
    "L_baand_top = np.array([181.60, 181.60, 182.28, 181.6]) #i cm - rækkefølge: Anders, Makito, Jakob og Christine\n",
    "L_baand_sigma = 0.1 #i cm\n",
    "\n",
    "#Lasermålinger\n",
    "L_laser_bund = np.array([2.004, 2.017, 2.026]) #i m - rækkefølge: Anders, Makito, Jakob\n",
    "L_laser_top = np.array([1.925, 1.918, 1.922]) #i m - rækkefølge: Anders, Makito, Jakob\n",
    "L_laser_sigma = 0.001 #i m\n",
    "\n",
    "Laser_ejenlængde = 10.3 #i cm - medregnet i længderne ovenover\n",
    "\n",
    "#Længden mellem loddet/pendulet og gulvet blev fastholdt i løbet af forsøget til 21.3 cm, ca. \n",
    "#Approkismativt har forsøgsopstillingen ikke ændret sig undervejs\n"
   ]
  },
  {
   "cell_type": "code",
   "execution_count": null,
   "id": "6020e7bf",
   "metadata": {},
   "outputs": [],
   "source": [
    "#Pendulforsøg 2 - langt pendul\n",
    "#Maalebaandsmaalinger\n",
    "LP_baand_bund = np.array([18.327, 18.319, 18.330]) #i m - rækkefølge: Anders, Makito, Jakob\n",
    "LP_baand_top = np.array([18.314, 18.312, 18.313])  #i m - rækkefølge: Anders, Makito, Jakob\n",
    "L_baand_sigma = 0.1 #i cm. Kommentar: Det er nok lidt for lavt ift. præcisionen af vores måling\n",
    "\n",
    "\n",
    "#Lasermaalinger\n",
    "LP_laser_gulv = np.array([18.731, 18.730, 18.747]) #i m - rækkefølge: Anders, Makito, Jakob\n",
    "#Kommentar: I ovenstående skal laserens ejenlængde ikke trækkes fra\n",
    "LP_lod_til_gulv = np.array([39.8, 39.8, 40.3]) #i cm - rækkefølge: Anders, Makito, Jakob\n",
    "L_baand_sigma = 0.1 #i cm\n",
    "L_laser_sigma = 0.001 #i m\n",
    "\n"
   ]
  }
 ],
 "metadata": {
  "kernelspec": {
   "display_name": "Python 3 (ipykernel)",
   "language": "python",
   "name": "python3"
  },
  "language_info": {
   "codemirror_mode": {
    "name": "ipython",
    "version": 3
   },
   "file_extension": ".py",
   "mimetype": "text/x-python",
   "name": "python",
   "nbconvert_exporter": "python",
   "pygments_lexer": "ipython3",
   "version": "3.11.5"
  }
 },
 "nbformat": 4,
 "nbformat_minor": 5
}
