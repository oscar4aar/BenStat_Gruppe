{
 "cells": [
  {
   "cell_type": "code",
   "execution_count": 2,
   "id": "dcb15df9",
   "metadata": {},
   "outputs": [],
   "source": [
    "import numpy as np"
   ]
  },
  {
   "cell_type": "code",
   "execution_count": 30,
   "metadata": {},
   "outputs": [],
   "source": [
    "blind = True\n",
    "\n",
    "if blind:\n",
    "    blinding = np.random.uniform()\n",
    "else:\n",
    "    blinding = 0"
   ]
  },
  {
   "cell_type": "code",
   "execution_count": 31,
   "id": "ef30cc03",
   "metadata": {},
   "outputs": [
    {
     "name": "stdout",
     "output_type": "stream",
     "text": [
      "Pendul forsøg med kort pendul\n",
      "L = 2.353 +- 0.001\n"
     ]
    }
   ],
   "source": [
    "#Pendulforsøg 1\n",
    "#Målebåndsmålinger\n",
    "L_baand_bund = np.array([191.52, 191.7, 192.35, 191.9]) #i cm - rækkefølge: Anders, Makito, Jakob og Christine\n",
    "L_baand_top = np.array([181.60, 181.60, 182.28, 181.6]) #i cm - rækkefølge: Anders, Makito, Jakob og Christine\n",
    "L_baand_sigma = 0.1 #i cm\n",
    "\n",
    "#Lasermålinger\n",
    "L_laser_bund = np.array([2.004, 2.017, 2.026]) #i m - rækkefølge: Anders, Makito, Jakob\n",
    "L_laser_top = np.array([1.925, 1.918, 1.922]) #i m - rækkefølge: Anders, Makito, Jakob\n",
    "L_laser_sigma = 0.001 #i m\n",
    "\n",
    "Laser_ejenlængde = 10.3 #i cm - medregnet i længderne ovenover\n",
    "\n",
    "#Længden mellem loddet/pendulet og gulvet blev fastholdt i løbet af forsøget til 21.3 cm, ca. \n",
    "#Approkismativt har forsøgsopstillingen ikke ændret sig undervejs\n",
    "\n",
    "# Afstand til masse midtpunkt antages til at være midt i loddet: pos_mid = (top + bund)/2\n",
    "# emid = 1/2 sqrt(etop**2 + ebund**2)\n",
    "\n",
    "# samler og omregner til samme enheder\n",
    "L_bund = np.concatenate((L_baand_bund/100, L_laser_bund - Laser_ejenlængde/100))\n",
    "L_top = np.concatenate((L_baand_top/100, L_laser_top - Laser_ejenlængde/100))\n",
    "\n",
    "# Error antag gaussian\n",
    "eL_bund = np.std(L_bund)/np.sqrt(len(L_bund))\n",
    "eL_top = np.std(L_top)/np.sqrt(len(L_top))\n",
    "\n",
    "L = (np.mean(L_top) + np.mean(L_bund)) / 2 + blinding\n",
    "eL = 1/2 * np.sqrt(eL_bund**2 + eL_top**2)\n",
    "print(\"Pendul forsøg med kort pendul\")\n",
    "print(f\"L = {L:.3f} +- {eL:.3f}\")\n"
   ]
  },
  {
   "cell_type": "code",
   "execution_count": 32,
   "id": "6020e7bf",
   "metadata": {},
   "outputs": [
    {
     "name": "stdout",
     "output_type": "stream",
     "text": [
      "Pendul forsøg med lang pendul\n",
      "L = 18.807 +- 0.002\n"
     ]
    }
   ],
   "source": [
    "#Pendulforsøg 2 - langt pendul\n",
    "#Maalebaandsmaalinger\n",
    "LP_baand_bund = np.array([18.327, 18.319, 18.330]) #i m - rækkefølge: Anders, Makito, Jakob\n",
    "LP_baand_top = np.array([18.314, 18.312, 18.313])  #i m - rækkefølge: Anders, Makito, Jakob\n",
    "L_baand_sigma = 0.1 #i cm. Kommentar: Det er nok lidt for lavt ift. præcisionen af vores måling\n",
    "\n",
    "\n",
    "#Lasermaalinger\n",
    "LP_laser_gulv = np.array([18.731, 18.730, 18.747]) #i m - rækkefølge: Anders, Makito, Jakob\n",
    "#Kommentar: I ovenstående skal laserens ejenlængde ikke trækkes fra\n",
    "LP_lod_til_gulv = np.array([39.8, 39.8, 40.3]) #i cm - rækkefølge: Anders, Makito, Jakob\n",
    "L_baand_sigma = 0.1 #i cm\n",
    "L_laser_sigma = 0.001 #i m\n",
    "\n",
    "# Afstand til masse midtpunkt antages til at være midt i loddet: pos_mid = (top + bund)/2\n",
    "# emid = 1/2 sqrt(etop**2 + ebund**2)\n",
    "\n",
    "# samler og omregner til samme enheder\n",
    "L_bund = np.concatenate((LP_baand_bund, LP_laser_gulv - LP_lod_til_gulv/100))\n",
    "L_top = LP_baand_top\n",
    "\n",
    "# Error antag gaussian\n",
    "eL_bund = np.std(L_bund)/np.sqrt(len(L_bund))\n",
    "eL_top = np.std(L_top)/np.sqrt(len(L_top))\n",
    "\n",
    "L = (np.mean(L_top) + np.mean(L_bund)) / 2 + blinding\n",
    "eL = 1/2 * np.sqrt(eL_bund**2 + eL_top**2)\n",
    "print(\"Pendul forsøg med lang pendul\")\n",
    "print(f\"L = {L:.3f} +- {eL:.3f}\")"
   ]
  },
  {
   "cell_type": "code",
   "execution_count": null,
   "metadata": {},
   "outputs": [],
   "source": []
  }
 ],
 "metadata": {
  "kernelspec": {
   "display_name": "Python 3 (ipykernel)",
   "language": "python",
   "name": "python3"
  },
  "language_info": {
   "codemirror_mode": {
    "name": "ipython",
    "version": 3
   },
   "file_extension": ".py",
   "mimetype": "text/x-python",
   "name": "python",
   "nbconvert_exporter": "python",
   "pygments_lexer": "ipython3",
   "version": "3.10.9"
  }
 },
 "nbformat": 4,
 "nbformat_minor": 5
}
