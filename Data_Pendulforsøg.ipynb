{
 "cells": [
  {
   "cell_type": "code",
   "execution_count": 2,
   "id": "dcb15df9",
   "metadata": {},
   "outputs": [
    {
     "data": {
      "text/latex": [
       "$$g = \\frac{4 \\pi^{2} L}{T^{2}}$$"
      ],
      "text/plain": [
       "<IPython.core.display.Latex object>"
      ]
     },
     "metadata": {},
     "output_type": "display_data"
    },
    {
     "data": {
      "text/latex": [
       "$$\\sigma_{g} = \\sqrt{\\frac{64 \\pi^{4} L^{2} \\sigma_{T}^{2}}{T^{6}} + \\frac{16 \\pi^{4} \\sigma_{L}^{2}}{T^{4}}}$$"
      ],
      "text/plain": [
       "<IPython.core.display.Latex object>"
      ]
     },
     "metadata": {},
     "output_type": "display_data"
    }
   ],
   "source": [
    "import numpy as np\n",
    "import matplotlib.pyplot as plt\n",
    "from errorPropPendulum import *\n",
    "from scipy.special import erfc                         # Error function, to get integral of Gaussian\n"
   ]
  },
  {
   "cell_type": "code",
   "execution_count": 3,
   "id": "93b57781",
   "metadata": {},
   "outputs": [],
   "source": [
    "blind = True\n",
    "\n",
    "if blind:\n",
    "    blinding = np.random.uniform()\n",
    "else:\n",
    "    blinding = 0\n",
    "\n",
    "experiment_by = [\"anders\", \"christine\", \"Jakob\", \"makito\"]"
   ]
  },
  {
   "cell_type": "code",
   "execution_count": 4,
   "id": "584cfa6d",
   "metadata": {},
   "outputs": [],
   "source": [
    "def Chauvenet(data): #Chauvenet med 1/4-del som kriterium frem for 1/2\n",
    "    n = 1\n",
    "    data_subset = data\n",
    "    while n>0:\n",
    "        n_bef = len(data_subset)\n",
    "        mask = (len(data_subset) * erfc(abs(data_subset - data_subset.mean()) / data_subset.std(ddof=1))) >= 1/4\n",
    "        data_subset = data_subset[mask]\n",
    "        n = n_bef - len(data_subset)\n",
    "        print(n)\n",
    "    return data_subset, len(data)-len(data_subset)"
   ]
  },
  {
   "cell_type": "code",
   "execution_count": 5,
   "id": "ef30cc03",
   "metadata": {},
   "outputs": [
    {
     "name": "stdout",
     "output_type": "stream",
     "text": [
      "[1.9152 1.917  1.9235 1.919  1.901  1.914  1.923 ]\n",
      "[1.816  1.816  1.8228 1.816  1.822  1.815  1.819 ]\n",
      "1\n",
      "0\n",
      "0\n",
      "[1.9152 1.917  1.9235 1.919  1.914  1.923 ]\n",
      "[1.816  1.816  1.8228 1.816  1.822  1.815  1.819 ]\n"
     ]
    }
   ],
   "source": [
    "#Pendulforsøg 1\n",
    "#Målebåndsmålinger\n",
    "L_baand_bund = np.array([191.52, 191.7, 192.35, 191.9]) #i cm - rækkefølge: Anders, Makito, Jakob og Christine\n",
    "L_baand_top = np.array([181.60, 181.60, 182.28, 181.6]) #i cm - rækkefølge: Anders, Makito, Jakob og Christine\n",
    "L_baand_sigma = 0.1 #i cm\n",
    "\n",
    "#Lasermålinger\n",
    "L_laser_bund = np.array([2.004, 2.017, 2.026]) #i m - rækkefølge: Anders, Makito, Jakob\n",
    "L_laser_top = np.array([1.925, 1.918, 1.922]) #i m - rækkefølge: Anders, Makito, Jakob\n",
    "L_laser_sigma = 0.001 #i m\n",
    "\n",
    "Laser_ejenlængde = 10.3 #i cm - medregnet i længderne ovenover\n",
    "\n",
    "#Længden mellem loddet/pendulet og gulvet blev fastholdt i løbet af forsøget til 21.3 cm, ca. \n",
    "#Approkismativt har forsøgsopstillingen ikke ændret sig undervejs\n",
    "\n",
    "# Afstand til masse midtpunkt antages til at være midt i loddet: pos_mid = (top + bund)/2\n",
    "# emid = 1/2 sqrt(etop**2 + ebund**2)\n",
    "\n",
    "# samler og omregner til samme enheder\n",
    "L_bund = np.concatenate((L_baand_bund/100, L_laser_bund - Laser_ejenlængde/100))\n",
    "L_top = np.concatenate((L_baand_top/100, L_laser_top - Laser_ejenlængde/100))\n",
    "\n",
    "print(L_bund)\n",
    "print(L_top)\n",
    "L_bund_ch, n_bund = Chauvenet(L_bund) #Implermentering af Chauvenet! - Fjerner ét datum\n",
    "L_top_ch, n_top = Chauvenet(L_top) #Fjerner ingen data\n",
    "print(L_bund_ch)\n",
    "print(L_top_ch)\n"
   ]
  },
  {
   "cell_type": "code",
   "execution_count": 11,
   "id": "a29d7bf9",
   "metadata": {},
   "outputs": [
    {
     "name": "stdout",
     "output_type": "stream",
     "text": [
      "Pendul forsøg med kort pendul\n",
      "L = 2.437 +- 0.001\n"
     ]
    }
   ],
   "source": [
    "\n",
    "# Error antag gaussian\n",
    "eL_bund = np.std(L_bund)/np.sqrt(len(L_bund))\n",
    "eL_top = np.std(L_top)/np.sqrt(len(L_top))\n",
    "\n",
    "L = (np.mean(L_top) + np.mean(L_bund)) / 2 + blinding\n",
    "eL = 1/2 * np.sqrt(eL_bund**2 + eL_top**2)\n",
    "print(\"Pendul forsøg med kort pendul\")\n",
    "print(f\"L = {L:.3f} +- {eL:.3f}\")\n",
    "\n"
   ]
  },
  {
   "cell_type": "code",
   "execution_count": 7,
   "id": "f9cb3d4d",
   "metadata": {},
   "outputs": [
    {
     "name": "stdout",
     "output_type": "stream",
     "text": [
      "T = 3.319 +- 0.010\n",
      "Caculated value for g = 8.737078381380392 +- 0.053609432455508046\n"
     ]
    }
   ],
   "source": [
    "periods = np.array([])\n",
    "for person in experiment_by:\n",
    "    data = np.genfromtxt(f\"timedat/{person}.dat\")\n",
    "    times = data[:,1]\n",
    "    Ts = (np.roll(times, -1) - times)[:-1] # T = [t2 - t1, t3 - t2, ..., t1 - tn]  discard the last element\n",
    "\n",
    "    if person == \"anders\": # Anders measured everty 5th period\n",
    "        Ts = Ts/5\n",
    "\n",
    "    periods = np.append(periods, Ts)\n",
    "\n",
    "#periods_ch, n_periods = Chauvenet(periods) #fjerner 1/3 af data, way to much\n",
    "#print(n_periods, len(periods))\n",
    "\n",
    "T = np.mean(periods) + blinding\n",
    "eT = np.std(periods)/np.sqrt(len(periods))\n",
    "print(f\"T = {T:.3f} +- {eT:.3f}\")\n",
    "\n",
    "print(f\"Caculated value for g = {eval_g(T, L)} +- {eval_eg(L, T, eL, eT)}\")"
   ]
  },
  {
   "cell_type": "code",
   "execution_count": 9,
   "id": "6020e7bf",
   "metadata": {},
   "outputs": [
    {
     "name": "stdout",
     "output_type": "stream",
     "text": [
      "[18.327 18.319 18.33  18.333 18.332 18.344]\n",
      "2\n",
      "1\n",
      "0\n",
      "0\n",
      "[18.33  18.333 18.332]\n",
      "Pendul forsøg med lang pendul\n",
      "L = 2.437 +- 0.002\n"
     ]
    }
   ],
   "source": [
    "#Pendulforsøg 2 - langt pendul\n",
    "#Maalebaandsmaalinger\n",
    "LP_baand_bund = np.array([18.327, 18.319, 18.330]) #i m - rækkefølge: Anders, Makito, Jakob\n",
    "LP_baand_top = np.array([18.314, 18.312, 18.313])  #i m - rækkefølge: Anders, Makito, Jakob\n",
    "L_baand_sigma = 0.1 #i cm. Kommentar: Det er nok lidt for lavt ift. præcisionen af vores måling\n",
    "\n",
    "\n",
    "#Lasermaalinger\n",
    "LP_laser_gulv = np.array([18.731, 18.730, 18.747]) #i m - rækkefølge: Anders, Makito, Jakob\n",
    "#Kommentar: I ovenstående skal laserens ejenlængde ikke trækkes fra\n",
    "LP_lod_til_gulv = np.array([39.8, 39.8, 40.3]) #i cm - rækkefølge: Anders, Makito, Jakob\n",
    "L_baand_sigma = 0.1 #i cm\n",
    "L_laser_sigma = 0.001 #i m\n",
    "\n",
    "# Afstand til masse midtpunkt antages til at være midt i loddet: pos_mid = (top + bund)/2\n",
    "# emid = 1/2 sqrt(etop**2 + ebund**2)\n",
    "\n",
    "# samler og omregner til samme enheder\n",
    "LP_bund = np.concatenate((LP_baand_bund, LP_laser_gulv - LP_lod_til_gulv/100))\n",
    "LP_top = LP_baand_top\n",
    "\n",
    "print(LP_bund)\n",
    "LP_bund_ch, n_bund_LP = Chauvenet(LP_bund) #Implermentering af Chauvenet! - Fjerner tre data\n",
    "LP_top_ch, n_top_LP = Chauvenet(LP_top) #Fjerner ingen data\n",
    "print(LP_bund_ch)\n",
    "\n",
    "# Error antag gaussian\n",
    "eL_bund = np.std(LP_bund)/np.sqrt(len(LP_bund))\n",
    "eL_top = np.std(LP_top)/np.sqrt(len(LP_top))\n",
    "\n",
    "L = (np.mean(L_top) + np.mean(L_bund)) / 2 + blinding\n",
    "eL = 1/2 * np.sqrt(eL_bund**2 + eL_top**2)\n",
    "print(\"Pendul forsøg med lang pendul\")\n",
    "print(f\"L = {L:.3f} +- {eL:.3f}\")\n",
    "\n"
   ]
  },
  {
   "cell_type": "code",
   "execution_count": 10,
   "id": "5aa0a3c0",
   "metadata": {},
   "outputs": [
    {
     "name": "stdout",
     "output_type": "stream",
     "text": [
      "2\n",
      "2\n",
      "1\n",
      "1\n",
      "1\n",
      "1\n",
      "0\n",
      "8 72\n",
      "T = 9.158 +- 0.019\n",
      "Caculated value for g = 1.1471865094050584 +- 0.004798021949617078\n"
     ]
    }
   ],
   "source": [
    "\n",
    "periods = np.array([])\n",
    "for person in experiment_by:\n",
    "    if person == \"Jakob\": # Jakob did not participate\n",
    "        continue\n",
    "\n",
    "    data = np.genfromtxt(f\"timedat/long_{person}.dat\")\n",
    "    times = data[:,1]\n",
    "    Ts = (np.roll(times, -1) - times)[:-1] # T = [t2 - t1, t3 - t2, ..., t1 - tn]  discard the last element\n",
    "\n",
    "    periods = np.append(periods, Ts)\n",
    "\n",
    "periods_ch, n_periods = Chauvenet(periods) #implermentering af Chuavenet\n",
    "print(n_periods, len(periods)) #fjerner otte af 72 datapunkter\n",
    "\n",
    "\n",
    "T = np.mean(periods) + blinding\n",
    "eT = np.std(periods)/np.sqrt(len(periods))\n",
    "print(f\"T = {T:.3f} +- {eT:.3f}\")\n",
    "\n",
    "print(f\"Caculated value for g = {eval_g(T, L)} +- {eval_eg(L, T, eL, eT)}\")"
   ]
  },
  {
   "cell_type": "code",
   "execution_count": null,
   "id": "16085df6",
   "metadata": {},
   "outputs": [],
   "source": [
    "# time fitting\n",
    "print(\"\\n  ------------------------------------  Fitting Stage  --------------------------------------- \\n\")\n",
    "\n",
    "minFit = 1\n",
    "maxFit = 100\n",
    "\n",
    "# Plot data points again\n",
    "fig_fit = plt.figure(figsize=(16, 8))\n",
    "frame1 = fig_fit.add_axes((.1,.3,.8,.6))\n",
    "plt.errorbar(Nworkers[minPlot:maxPlot], Ncompanies[minPlot:maxPlot], yerr=eNcompanies[minPlot:maxPlot], fmt='.', linewidth=2,\n",
    "                color=\"blue\", label='Data (2020)')\n",
    "#ax_fit.set(xlabel=\"Size of company (in FTE)\", ylabel=\"Number of companies\", title=\"\")\n",
    "plt.xlabel( \"Size of company (in FTE)\",fontsize=16)\n",
    "plt.ylabel(\"Number of companies\",fontsize=16)\n",
    "#plt.yscale('log')\n",
    "plt.legend(fontsize=16);\n",
    "\n",
    "# Power Law fit:\n",
    "# --------------\n",
    "def ChiSquare_exponential(N, alpha):\n",
    "    Ncompanies_est = func_Exponential(Nworkers[minFit:maxFit], N, alpha)\n",
    "    chi2 = np.sum(((Ncompanies[minFit:maxFit] - Ncompanies_est) / eNcompanies[minFit:maxFit]) ** 2)\n",
    "    return chi2\n",
    "\n",
    "minuit = Minuit(ChiSquare_exponential, N=50000.0, alpha=2.0)\n",
    "minuit.errordef = 1.0   # Chi2 fit\n",
    "minuit.migrad();\n",
    "if (not minuit.fmin.is_valid):\n",
    "    print(\"  WARNING: The ChiSquare fit DID NOT converge!!! \")\n",
    "\n",
    "for name in minuit.parameters:\n",
    "    print(\"Fit value (exp): {0} = {1:.5f} +/- {2:.5f}\".format(name, minuit.values[name], minuit.errors[name]))\n",
    "chi2 = minuit.fmin.fval\n",
    "Ndof = len(Ncompanies[minFit:maxFit]) - len(minuit.values[:])\n",
    "Prob = stats.chi2.sf(chi2, Ndof)\n",
    "print(f\"  Model fit:  Prob(Chi2={chi2:6.1f}, Ndof={Ndof:3d}) = {Prob:7.5f}\")\n",
    "\n",
    "N_fit, alpha_fit = minuit.values[:]\n",
    "eN_fit, ealpha_fit = minuit.errors[:]\n",
    "plt.plot(Nworkers[minFit:maxFit], func_Exponential_vec(Nworkers[minFit:maxFit], N_fit, alpha_fit), 'red', linewidth=2.0,\n",
    "            label=f'Fit with Exponential (Chi2 = {chi2:6.1f})')\n",
    "\n",
    "difference = func_Exponential_vec(Nworkers[minFit:maxFit], N_fit, alpha_fit)/ Ncompanies[minFit:maxFit]\n",
    "frame2 = fig_fit.add_axes((.1,.1,.8,.2))        \n",
    "plt.plot(Nworkers[minFit:maxFit],difference,'.', color=\"red\")\n",
    "plt.grid()"
   ]
  }
 ],
 "metadata": {
  "kernelspec": {
   "display_name": "Python 3 (ipykernel)",
   "language": "python",
   "name": "python3"
  },
  "language_info": {
   "codemirror_mode": {
    "name": "ipython",
    "version": 3
   },
   "file_extension": ".py",
   "mimetype": "text/x-python",
   "name": "python",
   "nbconvert_exporter": "python",
   "pygments_lexer": "ipython3",
   "version": "3.11.5"
  }
 },
 "nbformat": 4,
 "nbformat_minor": 5
}
