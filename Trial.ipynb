{
 "cells": [
  {
   "cell_type": "markdown",
   "id": "23490193-07fc-44b5-ad34-60ba9e97bc89",
   "metadata": {},
   "source": [
    "# Trial Document\n"
   ]
  },
  {
   "cell_type": "code",
   "execution_count": 2,
   "id": "69db609e-0632-483b-a122-fbf29b93e9e2",
   "metadata": {},
   "outputs": [],
   "source": [
    "import numpy as np                                     # Matlab like syntax for linear algebra and functions\n",
    "import matplotlib as mpl\n",
    "import matplotlib.pyplot as plt                        # Plots and figures like you know them from Matlab\n",
    "from iminuit import Minuit                             # The actual fitting tool, better than scipy's\n",
    "import sys                                             # Modules to see files and folders in directories\n",
    "\n",
    "from scipy import stats\n",
    "from scipy.stats import binom, poisson, norm           # Functions from SciPy Stats..."
   ]
  },
  {
   "cell_type": "code",
   "execution_count": 3,
   "id": "e0e8afa8-e2ce-474f-84d4-654f16052a12",
   "metadata": {},
   "outputs": [],
   "source": [
    "sys.path.append('../AppStat2023/External_Functions') # Should get External Functions from the AppStat2023 repository, if it is present\n",
    "from ExternalFunctions import Chi2Regression\n",
    "from ExternalFunctions import nice_string_output, add_text_to_ax   # Useful functions to print fit results on figure"
   ]
  },
  {
   "cell_type": "code",
   "execution_count": null,
   "id": "e84411dc-1352-4713-9e7c-f822f50feadd",
   "metadata": {},
   "outputs": [],
   "source": []
  }
 ],
 "metadata": {
  "kernelspec": {
   "display_name": "Python 3 (ipykernel)",
   "language": "python",
   "name": "python3"
  },
  "language_info": {
   "codemirror_mode": {
    "name": "ipython",
    "version": 3
   },
   "file_extension": ".py",
   "mimetype": "text/x-python",
   "name": "python",
   "nbconvert_exporter": "python",
   "pygments_lexer": "ipython3",
   "version": "3.9.18"
  }
 },
 "nbformat": 4,
 "nbformat_minor": 5
}
